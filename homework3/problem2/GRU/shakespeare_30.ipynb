{
 "cells": [
  {
   "cell_type": "code",
   "execution_count": 1,
   "metadata": {},
   "outputs": [
    {
     "name": "stdout",
     "output_type": "stream",
     "text": [
      "NVIDIA GeForce RTX 4050 Laptop GPU\n",
      "Using device: cuda:0\n"
     ]
    }
   ],
   "source": [
    "import torch\n",
    "import torch.nn as nn\n",
    "from torch.utils.data import Dataset, DataLoader\n",
    "import numpy as np\n",
    "import requests\n",
    "import torch.optim as optim\n",
    "\n",
    "device = torch.device(\"cuda:0\" if torch.cuda.is_available() else \"cpu\")\n",
    "if torch.cuda.is_available:\n",
    "    device_name = torch.cuda.get_device_name(0)\n",
    "    print(device_name)\n",
    "print(f\"Using device: {device}\")"
   ]
  },
  {
   "cell_type": "code",
   "execution_count": 2,
   "metadata": {},
   "outputs": [],
   "source": [
    "# Step 1: Download the dataset\n",
    "url = \"https://raw.githubusercontent.com/karpathy/char-rnn/master/data/tinyshakespeare/input.txt\"\n",
    "response = requests.get(url)\n",
    "text = response.text  # This is the entire text data\n"
   ]
  },
  {
   "cell_type": "code",
   "execution_count": 3,
   "metadata": {},
   "outputs": [],
   "source": [
    "\n",
    "\n",
    "# Step 2: Prepare the dataset\n",
    "sequence_length = 30\n",
    "# Create a character mapping to integers\n",
    "chars = sorted(list(set(text)))\n",
    "char_to_int = {ch: i for i, ch in enumerate(chars)}\n",
    "int_to_char = {i: ch for i, ch in enumerate(chars)}\n",
    "\n",
    "# Encode the text into integers\n",
    "encoded_text = [char_to_int[ch] for ch in text]\n",
    "\n",
    "# Create sequences and targets\n",
    "sequences = []\n",
    "targets = []\n",
    "for i in range(0, len(encoded_text) - sequence_length):\n",
    "    seq = encoded_text[i:i+sequence_length]\n",
    "    target = encoded_text[i+sequence_length]\n",
    "    sequences.append(seq)\n",
    "    targets.append(target)\n",
    "\n",
    "# Convert lists to PyTorch tensors\n",
    "sequences = torch.tensor(sequences, dtype=torch.long)\n",
    "targets = torch.tensor(targets, dtype=torch.long)\n",
    "\n",
    "# Step 3: Create a dataset class\n",
    "class CharDataset(Dataset):\n",
    "    def __init__(self, sequences, targets):\n",
    "        self.sequences = sequences\n",
    "        self.targets = targets\n",
    "\n",
    "    def __len__(self):\n",
    "        return len(self.sequences)\n",
    "\n",
    "    def __getitem__(self, index):\n",
    "        return self.sequences[index], self.targets[index]\n",
    "\n",
    "# Instantiate the dataset\n",
    "dataset = CharDataset(sequences, targets)\n",
    "\n",
    "# Step 4: Create data loaders\n",
    "batch_size = 128\n",
    "train_size = int(len(dataset) * 0.8)\n",
    "test_size = len(dataset) - train_size\n",
    "train_dataset, test_dataset = torch.utils.data.random_split(dataset, [train_size, test_size])\n",
    "\n",
    "train_loader = DataLoader(train_dataset, shuffle=True, batch_size=batch_size)\n",
    "test_loader = DataLoader(test_dataset, shuffle=False, batch_size=batch_size)\n",
    "\n",
    "# Now `train_loader` and `test_loader` are ready to be used in a training loop"
   ]
  },
  {
   "cell_type": "code",
   "execution_count": 4,
   "metadata": {},
   "outputs": [],
   "source": [
    "# Defining the RNN model\n",
    "class CharGRU(nn.Module):\n",
    "    def __init__(self, input_size, hidden_size, output_size):\n",
    "        super(CharGRU, self).__init__()\n",
    "        self.hidden_size = hidden_size\n",
    "        #This line takes the input tensor x, which contains indices of characters, and passes it through an embedding layer (self.embedding). \n",
    "        #The embedding layer converts these indices into dense vectors of fixed size. \n",
    "        #These vectors are learned during training and can capture semantic similarities between characters. \n",
    "        #The result is a higher-dimensional representation of the input sequence, where each character index is replaced by its corresponding embedding vector. \n",
    "        self.embedding = nn.Embedding(input_size, hidden_size)\n",
    "        self.rnn = nn.GRU(hidden_size, hidden_size, batch_first=True)\n",
    "        self.fc = nn.Linear(hidden_size, output_size)\n",
    "\n",
    "    def forward(self, x):\n",
    "        embedded = self.embedding(x)\n",
    "        #The RNN layer returns two outputs: \n",
    "        #1- the output tensor containing the output of the RNN at each time step for each sequence in the batch, \n",
    "        #2-the hidden state (_) of the last time step (which is not used in this line, hence the underscore).\n",
    "        output, _ = self.rnn(embedded)\n",
    "        #The RNN's output contains the outputs for every time step, \n",
    "        #but for this task, we're only interested in the output of the last time step because we're predicting the next character after the sequence. \n",
    "        #output[:, -1, :] selects the last time step's output for every sequence in the batch (-1 indexes the last item in Python).\n",
    "        output = self.fc(output[:, -1, :])  # Get the output of the last RNN cell\n",
    "        return output\n"
   ]
  },
  {
   "cell_type": "code",
   "execution_count": 5,
   "metadata": {},
   "outputs": [
    {
     "name": "stdout",
     "output_type": "stream",
     "text": [
      "Epoch 10, Loss: 1.589547038078308, Validation Loss: 1.8170344829559326, Validation Accuracy: 0.4536082446575165\n",
      "Epoch 20, Loss: 2.6464812755584717, Validation Loss: 1.9084439277648926, Validation Accuracy: 0.39175257086753845\n",
      "Epoch 30, Loss: 3.8017330169677734, Validation Loss: 1.89705491065979, Validation Accuracy: 0.4329896867275238\n",
      "Epoch 40, Loss: 2.4090993404388428, Validation Loss: 2.058465003967285, Validation Accuracy: 0.4020618498325348\n",
      "Epoch 50, Loss: 2.5696375370025635, Validation Loss: 1.9536497592926025, Validation Accuracy: 0.4329896867275238\n",
      "Epoch 60, Loss: 1.7330093383789062, Validation Loss: 1.9397451877593994, Validation Accuracy: 0.36082473397254944\n",
      "Epoch 70, Loss: 1.167818546295166, Validation Loss: 1.9940268993377686, Validation Accuracy: 0.39175257086753845\n",
      "Epoch 80, Loss: 0.8178136944770813, Validation Loss: 1.8839292526245117, Validation Accuracy: 0.4329896867275238\n",
      "Epoch 90, Loss: 1.3214560747146606, Validation Loss: 1.9476298093795776, Validation Accuracy: 0.41237112879753113\n",
      "Epoch 100, Loss: 1.9333425760269165, Validation Loss: 1.9236220121383667, Validation Accuracy: 0.47422680258750916\n"
     ]
    }
   ],
   "source": [
    "# Hyperparameters\n",
    "hidden_size = 128\n",
    "learning_rate = 0.005\n",
    "epochs = 100\n",
    "\n",
    "# Model, loss, and optimizer\n",
    "model = CharGRU(len(chars), hidden_size, len(chars)).to(device)\n",
    "criterion = nn.CrossEntropyLoss()\n",
    "optimizer = optim.Adam(model.parameters(), lr=learning_rate)\n",
    "\n",
    "# Training the model\n",
    "for epoch in range(epochs):\n",
    "    for inputs, targets in train_loader:\n",
    "        inputs, targets = inputs.to(device, non_blocking=True), targets.to(device, non_blocking=True)\n",
    "        model.train()\n",
    "        optimizer.zero_grad()\n",
    "        output = model(inputs)\n",
    "        loss = criterion(output, targets)\n",
    "        loss.backward()\n",
    "        optimizer.step()\n",
    "    \n",
    "    # Validation\n",
    "    model.eval()\n",
    "    with torch.no_grad():\n",
    "        for inputs, targets in test_loader:\n",
    "            inputs, targets = inputs.to(device, non_blocking=True), targets.to(device, non_blocking=True)\n",
    "            val_output = model(inputs)\n",
    "            val_loss = criterion(val_output, targets)\n",
    "            #The use of the underscore _ is a common Python convention to indicate that the actual maximum values returned by torch.max are not needed and can be disregarded. \n",
    "            #What we are interested in is the indices of these maximum values, which are captured by the variable predicted. These indices represent the model's predictions for each example in the validation set.\n",
    "            _, predicted = torch.max(val_output, 1)\n",
    "            val_accuracy = (predicted == targets).float().mean()\n",
    "        \n",
    "        if (epoch+1) % 10 == 0:\n",
    "            print(f'Epoch {epoch+1}, Loss: {loss.item()}, Validation Loss: {val_loss.item()}, Validation Accuracy: {val_accuracy.item()}')\n",
    "\n",
    "\n"
   ]
  }
 ],
 "metadata": {
  "kernelspec": {
   "display_name": "Python 3",
   "language": "python",
   "name": "python3"
  },
  "language_info": {
   "codemirror_mode": {
    "name": "ipython",
    "version": 3
   },
   "file_extension": ".py",
   "mimetype": "text/x-python",
   "name": "python",
   "nbconvert_exporter": "python",
   "pygments_lexer": "ipython3",
   "version": "3.10.12"
  }
 },
 "nbformat": 4,
 "nbformat_minor": 2
}
