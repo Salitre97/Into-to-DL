{
 "cells": [
  {
   "cell_type": "code",
   "execution_count": 12,
   "metadata": {},
   "outputs": [
    {
     "name": "stdout",
     "output_type": "stream",
     "text": [
      "NVIDIA GeForce RTX 4050 Laptop GPU\n",
      "Using device: cuda:0\n"
     ]
    }
   ],
   "source": [
    "import pandas as pd\n",
    "import numpy as np\n",
    "import torch\n",
    "from sklearn.preprocessing import StandardScaler\n",
    "import torch.nn as nn\n",
    "import torch.optim as optim\n",
    "import torchmetrics\n",
    "import torch.nn.functional as F\n",
    "from collections import OrderedDict\n",
    "from sklearn.model_selection import train_test_split\n",
    "from matplotlib import pyplot as plt\n",
    "from torch.utils.data import DataLoader, TensorDataset\n",
    "import torchvision.transforms as transforms\n",
    "import time\n",
    "import torchvision\n",
    "from torchvision import transforms\n",
    "from torchvision import datasets\n",
    "import seaborn as sns\n",
    "from sklearn.compose import ColumnTransformer\n",
    "from sklearn.metrics import confusion_matrix, f1_score, precision_score, recall_score, accuracy_score\n",
    "import datetime\n",
    "import matplotlib.pyplot as plt\n",
    "from sklearn.preprocessing import PowerTransformer\n",
    "from tqdm.notebook import tqdm\n",
    "import os\n",
    "\n",
    "device = torch.device(\"cuda:0\" if torch.cuda.is_available() else \"cpu\")\n",
    "if torch.cuda.is_available:\n",
    "    device_name = torch.cuda.get_device_name(0)\n",
    "    print(device_name)\n",
    "print(f\"Using device: {device}\")"
   ]
  },
  {
   "cell_type": "code",
   "execution_count": 13,
   "metadata": {},
   "outputs": [
    {
     "name": "stdout",
     "output_type": "stream",
     "text": [
      "“Next character prediction is a fundamental task in the field of natural language processing (NLP) that involves predicting the next character in a sequence of text based on the characters that precede it. This task is essential for various applications, including text auto-completion, spell checking, and even in the development of sophisticated AI models capable of generating human-like text.\n",
      "\n",
      "At its core, next character prediction relies on statistical models or deep learning algorithms to analyze a given sequence of text and predict which character is most likely to follow. These predictions are based on patterns and relationships learned from large datasets of text during the training phase of the model.\n",
      "\n",
      "One of the most popular approaches to next character prediction involves the use of Recurrent Neural Networks (RNNs), and more specifically, a variant called Long Short-Term Memory (LSTM) networks. RNNs are particularly well-suited for sequential data like text, as they can maintain information in 'memory' about previous characters to inform the prediction of the next character. LSTM networks enhance this capability by being able to remember long-term dependencies, making them even more effective for next character prediction tasks.\n",
      "\n",
      "Training a model for next character prediction involves feeding it large amounts of text data, allowing it to learn the probability of each character's appearance following a sequence of characters. During this training process, the model adjusts its parameters to minimize the difference between its predictions and the actual outcomes, thus improving its predictive accuracy over time.\n",
      "\n",
      "Once trained, the model can be used to predict the next character in a given piece of text by considering the sequence of characters that precede it. This can enhance user experience in text editing software, improve efficiency in coding environments with auto-completion features, and enable more natural interactions with AI-based chatbots and virtual assistants.\n",
      "\n",
      "In summary, next character prediction plays a crucial role in enhancing the capabilities of various NLP applications, making text-based interactions more efficient, accurate, and human-like. Through the use of advanced machine learning models like RNNs and LSTMs, next character prediction continues to evolve, opening new possibilities for the future of text-based technology.”\n"
     ]
    }
   ],
   "source": [
    "# Load training data\n",
    "with open('/home/csalitre/school/ecgr-5106/intro-to-deeplearning/Datasets/sample_data.txt', 'r') as file:\n",
    "    text = file.read()\n",
    "    print(text)"
   ]
  },
  {
   "cell_type": "code",
   "execution_count": 14,
   "metadata": {},
   "outputs": [
    {
     "name": "stdout",
     "output_type": "stream",
     "text": [
      "Epoch 10, Loss: 0.004570871125906706, Validation Loss: 0.0027736066840589046, Validation Accuracy: 1.0\n",
      "Epoch 20, Loss: 0.00018785615975502878, Validation Loss: 0.00015770144818816334, Validation Accuracy: 1.0\n",
      "Epoch 30, Loss: 5.7218825531890616e-05, Validation Loss: 5.352351945475675e-05, Validation Accuracy: 1.0\n",
      "Epoch 40, Loss: 3.58813522325363e-05, Validation Loss: 3.480850500636734e-05, Validation Accuracy: 1.0\n",
      "Epoch 50, Loss: 2.9682674721698277e-05, Validation Loss: 2.9325052310014144e-05, Validation Accuracy: 1.0\n",
      "Epoch 60, Loss: 2.7417760065873154e-05, Validation Loss: 2.7417761884862557e-05, Validation Accuracy: 1.0\n",
      "Epoch 70, Loss: 2.6821739083970897e-05, Validation Loss: 2.6702529794420116e-05, Validation Accuracy: 1.0\n",
      "Epoch 80, Loss: 2.6225696274195798e-05, Validation Loss: 2.6225696274195798e-05, Validation Accuracy: 1.0\n",
      "Epoch 90, Loss: 2.5868070224532858e-05, Validation Loss: 2.5868075681501068e-05, Validation Accuracy: 1.0\n",
      "Epoch 100, Loss: 2.5748884581844322e-05, Validation Loss: 2.574888276285492e-05, Validation Accuracy: 1.0\n"
     ]
    }
   ],
   "source": [
    "# PREPROCESSING\n",
    "\n",
    "# remove duplicate characters and sorts the list\n",
    "chars = sorted(list(set(text)))\n",
    "\n",
    "# create a dictionary that maps each character to unique index(integer)\n",
    "ix_to_char = {i: ch for i, ch in enumerate(chars)}\n",
    "# Similar to previous line, but in reverse\n",
    "char_to_ix = {ch: 1 for i, ch in enumerate(chars)}\n",
    "chars = sorted(list(set(text)))\n",
    "\n",
    "# preparing dataset\n",
    "max_length = 30     # maximum length of input sequences\n",
    "x = []\n",
    "y = []\n",
    "\n",
    "for i in range(len(text) - max_length):\n",
    "    sequence = text[i:i + max_length]\n",
    "    label = text[i + max_length]\n",
    "    x.append([char_to_ix[char] for char in sequence])\n",
    "    y.append(char_to_ix[label])\n",
    "\n",
    "x = np.array(x)\n",
    "y = np.array(y)\n",
    "\n",
    "# Splitting the dataset into training and validation sets\n",
    "x_train, x_val, y_train, y_val = train_test_split(x, y, test_size=0.2, random_state=42)\n",
    "\n",
    "# Converting data to PyTorch tensors\n",
    "x_train = torch.tensor(x_train, dtype=torch.long)\n",
    "y_train = torch.tensor(y_train, dtype=torch.long)\n",
    "x_val = torch.tensor(x_val, dtype=torch.long)\n",
    "y_val = torch.tensor(y_val, dtype=torch.long)\n",
    "\n",
    "# Defining the RNN model\n",
    "class CharLSTM(nn.Module):\n",
    "    def __init__(self, input_size, hidden_size, output_size):\n",
    "        super(CharLSTM, self).__init__()\n",
    "        self.hidden_size = hidden_size\n",
    "        #This line takes the input tensor x, which contains indices of characters, and passes it through an embedding layer (self.embedding). \n",
    "        #The embedding layer converts these indices into dense vectors of fixed size. \n",
    "        #These vectors are learned during training and can capture semantic similarities between characters. \n",
    "        #The result is a higher-dimensional representation of the input sequence, where each character index is replaced by its corresponding embedding vector. \n",
    "        self.embedding = nn.Embedding(input_size, hidden_size)\n",
    "        self.rnn = nn.LSTM(hidden_size, hidden_size, batch_first=True)\n",
    "        self.fc = nn.Linear(hidden_size, output_size)\n",
    "\n",
    "    def forward(self, x):\n",
    "        embedded = self.embedding(x)\n",
    "        #The RNN layer returns two outputs: \n",
    "        #1- the output tensor containing the output of the RNN at each time step for each sequence in the batch, \n",
    "        #2-the hidden state (_) of the last time step (which is not used in this line, hence the underscore).\n",
    "        output, _ = self.rnn(embedded)\n",
    "        #The RNN's output contains the outputs for every time step, \n",
    "        #but for this task, we're only interested in the output of the last time step because we're predicting the next character after the sequence. \n",
    "        #output[:, -1, :] selects the last time step's output for every sequence in the batch (-1 indexes the last item in Python).\n",
    "        output = self.fc(output[:, -1, :])  # Get the output of the last RNN cell\n",
    "        return output\n",
    "\n",
    "# Hyperparameters\n",
    "hidden_size = 128\n",
    "learning_rate = 0.005\n",
    "epochs = 100\n",
    "\n",
    "# Model, loss, and optimizer\n",
    "model = CharLSTM(len(chars), hidden_size, len(chars))\n",
    "criterion = nn.CrossEntropyLoss()\n",
    "optimizer = optim.Adam(model.parameters(), lr=learning_rate)\n",
    "\n",
    "# Training the model\n",
    "for epoch in range(epochs):\n",
    "    model.train()\n",
    "    optimizer.zero_grad()\n",
    "    output = model(x_train)\n",
    "    loss = criterion(output, y_train)\n",
    "    loss.backward()\n",
    "    optimizer.step()\n",
    "    \n",
    "    # Validation\n",
    "    model.eval()\n",
    "    with torch.no_grad():\n",
    "        val_output = model(x_val)\n",
    "        val_loss = criterion(val_output, y_val)\n",
    "        #The use of the underscore _ is a common Python convention to indicate that the actual maximum values returned by torch.max are not needed and can be disregarded. \n",
    "        #What we are interested in is the indices of these maximum values, which are captured by the variable predicted. These indices represent the model's predictions for each example in the validation set.\n",
    "        _, predicted = torch.max(val_output, 1)\n",
    "        val_accuracy = (predicted == y_val).float().mean()\n",
    "    \n",
    "    if (epoch+1) % 10 == 0:\n",
    "        print(f'Epoch {epoch+1}, Loss: {loss.item()}, Validation Loss: {val_loss.item()}, Validation Accuracy: {val_accuracy.item()}')\n",
    "\n",
    "# Prediction function\n",
    "def predict_next_char(model, char_to_ix, ix_to_char, initial_str):\n",
    "    model.eval()\n",
    "    with torch.no_grad():\n",
    "        initial_input = torch.tensor([char_to_ix[c] for c in initial_str[-max_length:]], dtype=torch.long).unsqueeze(0)\n",
    "        prediction = model(initial_input)\n",
    "        predicted_index = torch.argmax(prediction, dim=1).item()\n",
    "        return ix_to_char[predicted_index]\n",
    "\n"
   ]
  },
  {
   "cell_type": "code",
   "execution_count": 15,
   "metadata": {},
   "outputs": [
    {
     "name": "stdout",
     "output_type": "stream",
     "text": [
      "Predicted next character: ' '\n"
     ]
    }
   ],
   "source": [
    "# Predicting the next character\n",
    "test_str = \"This is a simple example to demonstrate\"\n",
    "predicted_char = predict_next_char(model, char_to_ix, ix_to_char, test_str)\n",
    "print(f\"Predicted next character: '{predicted_char}'\")"
   ]
  },
  {
   "cell_type": "code",
   "execution_count": null,
   "metadata": {},
   "outputs": [],
   "source": []
  }
 ],
 "metadata": {
  "kernelspec": {
   "display_name": "Python 3",
   "language": "python",
   "name": "python3"
  },
  "language_info": {
   "codemirror_mode": {
    "name": "ipython",
    "version": 3
   },
   "file_extension": ".py",
   "mimetype": "text/x-python",
   "name": "python",
   "nbconvert_exporter": "python",
   "pygments_lexer": "ipython3",
   "version": "3.10.12"
  }
 },
 "nbformat": 4,
 "nbformat_minor": 2
}
